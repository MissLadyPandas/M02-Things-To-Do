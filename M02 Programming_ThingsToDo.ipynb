{
 "cells": [
  {
   "cell_type": "code",
   "execution_count": 16,
   "id": "b54556f5-0be9-4f44-825b-a14db4e16e32",
   "metadata": {},
   "outputs": [
    {
     "name": "stdout",
     "output_type": "stream",
     "text": [
      "too low\n"
     ]
    }
   ],
   "source": [
    "# Assign specific numbers to secret and guess\n",
    "secret = 9\n",
    "guess = 5\n",
    "\n",
    "# Conditional tests to compare guess against secret\n",
    "if guess < secret:\n",
    "    print('too low')\n",
    "elif guess > secret:\n",
    "    print('too high')\n",
    "else:\n",
    "    print('just right')\n"
   ]
  },
  {
   "cell_type": "code",
   "execution_count": 17,
   "id": "edca090e-3a4b-473c-a0fd-1e719e1ac21f",
   "metadata": {},
   "outputs": [
    {
     "name": "stdout",
     "output_type": "stream",
     "text": [
      "pea\n"
     ]
    }
   ],
   "source": [
    "# Assign True or False to these variables\n",
    "small = True \n",
    "green = True  \n",
    "\n",
    "# Determine the item based on the characteristics\n",
    "if small and green:\n",
    "    print('pea')\n",
    "elif small and not green:\n",
    "    print('cherry')\n",
    "elif not small and green:\n",
    "    print('watermelon')\n",
    "else:  # not small and not green\n",
    "    print('pumpkin')\n"
   ]
  },
  {
   "cell_type": "code",
   "execution_count": 18,
   "id": "2a7eb8ae-9f89-4400-8dbc-7677d34f3048",
   "metadata": {},
   "outputs": [
    {
     "name": "stdout",
     "output_type": "stream",
     "text": [
      "3\n",
      "2\n",
      "1\n",
      "0\n"
     ]
    }
   ],
   "source": [
    "for value in [3, 2, 1, 0]:\n",
    "    print(value)\n"
   ]
  },
  {
   "cell_type": "code",
   "execution_count": 19,
   "id": "3c9e0b8a-4424-4d95-85fe-99499fd9fa07",
   "metadata": {},
   "outputs": [
    {
     "name": "stdout",
     "output_type": "stream",
     "text": [
      "too low\n",
      "too low\n",
      "too low\n",
      "too low\n",
      "too low\n",
      "too low\n",
      "found it!\n"
     ]
    }
   ],
   "source": [
    "guess_me = 7\n",
    "number = 1\n",
    "\n",
    "while True:\n",
    "    if number < guess_me:\n",
    "        print('too low')\n",
    "    elif number == guess_me:\n",
    "        print('found it!')\n",
    "        break  # Exit the loop\n",
    "    else:  # number > guess_me\n",
    "        print('oops')\n",
    "        break  # Exit the loop\n",
    "    number += 1  # Increment number at the end of the loop\n"
   ]
  },
  {
   "cell_type": "code",
   "execution_count": 20,
   "id": "46ffe096-e587-481e-a7b6-49955b0f665c",
   "metadata": {},
   "outputs": [
    {
     "name": "stdout",
     "output_type": "stream",
     "text": [
      "too low\n",
      "too low\n",
      "too low\n",
      "too low\n",
      "too low\n",
      "found it!\n"
     ]
    }
   ],
   "source": [
    "guess_me = 5\n",
    "\n",
    "for number in range(10):\n",
    "    if number < guess_me:\n",
    "        print('too low')\n",
    "    elif number == guess_me:\n",
    "        print('found it!')\n",
    "        break  # Exit the loop after finding the match\n",
    "    else:  # number > guess_me\n",
    "        print('oops')\n",
    "        break  # Exit the loop if number is greater than guess_me\n"
   ]
  },
  {
   "cell_type": "code",
   "execution_count": null,
   "id": "2828e66c-f755-4265-84d4-0f4dd1dd087c",
   "metadata": {},
   "outputs": [],
   "source": []
  }
 ],
 "metadata": {
  "kernelspec": {
   "display_name": "Python 3 (ipykernel)",
   "language": "python",
   "name": "python3"
  },
  "language_info": {
   "codemirror_mode": {
    "name": "ipython",
    "version": 3
   },
   "file_extension": ".py",
   "mimetype": "text/x-python",
   "name": "python",
   "nbconvert_exporter": "python",
   "pygments_lexer": "ipython3",
   "version": "3.11.7"
  }
 },
 "nbformat": 4,
 "nbformat_minor": 5
}
